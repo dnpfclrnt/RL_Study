{
 "cells": [
  {
   "cell_type": "code",
   "execution_count": 70,
   "metadata": {},
   "outputs": [],
   "source": [
    "import tensorflow.compat.v1 as tf\n",
    "tf.disable_v2_behavior()\n",
    "import numpy as np\n",
    "import gym\n",
    "from PIL import Image\n",
    "import matplotlib.pyplot as plt\n",
    "import random"
   ]
  },
  {
   "cell_type": "code",
   "execution_count": 71,
   "metadata": {},
   "outputs": [],
   "source": [
    "env = gym.make('CartPole-v1', render_mode=\"rgb_array\")"
   ]
  },
  {
   "cell_type": "code",
   "execution_count": 72,
   "metadata": {},
   "outputs": [],
   "source": [
    "n_input = env.observation_space.shape[0] # 4\n",
    "n_actions = env.action_space.n\n",
    "n_output = n_actions\n",
    "\n",
    "n_hidden1 = 100\n",
    "n_hidden2 = 50"
   ]
  },
  {
   "cell_type": "code",
   "execution_count": 73,
   "metadata": {},
   "outputs": [],
   "source": [
    "x = tf.placeholder(tf.float32, [None, n_input])\n",
    "y = tf.placeholder(tf.float32, [None, n_output])"
   ]
  },
  {
   "cell_type": "code",
   "execution_count": 74,
   "metadata": {},
   "outputs": [],
   "source": [
    "weights = {\n",
    "    'hidden1' : tf.Variable(tf.random_normal([n_input, n_hidden1], stddev=0.01)),\n",
    "    'hidden2' : tf.Variable(tf.random_normal([n_hidden1, n_hidden2], stddev=0.01)),\n",
    "    'output' : tf.Variable(tf.random_normal([n_hidden2, n_output], stddev=0.01))\n",
    "}\n",
    "\n",
    "biases = {\n",
    "    'hidden1' : tf.Variable(tf.random_normal([n_hidden1], stddev=0.01)),\n",
    "    'hidden2' : tf.Variable(tf.random_normal([n_hidden2], stddev=0.01)),\n",
    "    'output' : tf.Variable(tf.random_normal([n_output], stddev=0.01))\n",
    "}"
   ]
  },
  {
   "cell_type": "code",
   "execution_count": 75,
   "metadata": {},
   "outputs": [],
   "source": [
    "def Qnet(x, weights, biases):\n",
    "    hidden1 = tf.add(tf.matmul(x, weights['hidden1']), biases['hidden1'])\n",
    "    hidden1 = tf.nn.relu(hidden1)\n",
    "\n",
    "    hidden2 = tf.add(tf.matmul(hidden1, weights['hidden2']), biases['hidden2'])\n",
    "    hidden2 = tf.nn.relu(hidden2)\n",
    "\n",
    "    output = tf.add(tf.matmul(hidden2, weights['output']), biases['output'])\n",
    "    return output"
   ]
  },
  {
   "cell_type": "code",
   "execution_count": 76,
   "metadata": {},
   "outputs": [],
   "source": [
    "Qpred = Qnet(x, weights, biases)\n",
    "loss = tf.reduce_mean(tf.square(y - Qpred))\n",
    "\n",
    "LR = 0.001\n",
    "optm = tf.train.AdamOptimizer(LR).minimize(loss)"
   ]
  },
  {
   "cell_type": "code",
   "execution_count": 94,
   "metadata": {},
   "outputs": [],
   "source": [
    "sess = tf.Session()\n",
    "init = tf.global_variables_initializer()\n",
    "sess.run(init)"
   ]
  },
  {
   "cell_type": "code",
   "execution_count": 95,
   "metadata": {},
   "outputs": [
    {
     "name": "stdout",
     "output_type": "stream",
     "text": [
      "Episode: 0 steps: 8\n",
      "Episode: 100 steps: 26\n",
      "Episode: 200 steps: 27\n",
      "Episode: 300 steps: 31\n",
      "Episode: 400 steps: 59\n",
      "Episode: 500 steps: 152\n",
      "Episode: 600 steps: 84\n",
      "Episode: 700 steps: 263\n",
      "Episode: 800 steps: 173\n",
      "Episode: 900 steps: 189\n",
      "Episode: 1000 steps: 103\n"
     ]
    }
   ],
   "source": [
    "gamma = 0.9\n",
    "\n",
    "for episode in range(1001):\n",
    "    terminated = False\n",
    "    state = env.reset()[0]\n",
    "\n",
    "    count = 0\n",
    "\n",
    "    while not terminated:\n",
    "        count += 1\n",
    "\n",
    "        state = np.reshape(state, [1, n_input])\n",
    "        Q = sess.run(Qpred, feed_dict={x: state})\n",
    "\n",
    "        epsilon = 0.1\n",
    "        if np.random.uniform() < epsilon:\n",
    "            a = env.action_space.sample()\n",
    "        else:\n",
    "            a = np.argmax(Q)\n",
    "        \n",
    "        next_state, reward, terminated, _, _ = env.step(a)\n",
    "\n",
    "        if terminated:\n",
    "            reward = -200\n",
    "            Q[0][a] = reward\n",
    "        else:\n",
    "            next_state = np.reshape(next_state, [1, n_input])\n",
    "            next_Q = sess.run(Qpred, feed_dict={x: next_state})\n",
    "            Q[0][a] = reward + gamma * np.max(next_Q)\n",
    "        \n",
    "        sess.run(optm, feed_dict={x: state, y: Q}) # Update\n",
    "\n",
    "        state = next_state\n",
    "    \n",
    "    if episode % 100 == 0:\n",
    "        print(f\"Episode: {episode} steps: {count}\")\n",
    "env.close()"
   ]
  },
  {
   "cell_type": "code",
   "execution_count": 96,
   "metadata": {},
   "outputs": [],
   "source": [
    "def show_gif(images: list) -> None:\n",
    "    image_file = 'test.gif'\n",
    "    images[0].save(image_file, save_all=True, append_images=images[1:], loop=0, duration=1)\n",
    "\n",
    "state = env.reset()[0]\n",
    "images = []\n",
    "\n",
    "terminated = False\n",
    "\n",
    "while not terminated:\n",
    "    screen = env.render()\n",
    "    images += [Image.fromarray(screen)]\n",
    "    state = np.reshape(state, [1, n_input])\n",
    "    Q = sess.run(Qpred, feed_dict={x: state})\n",
    "    action = np.argmax(Q)\n",
    "\n",
    "    next_state, reward, terminated, _, _ = env.step(action)\n",
    "    state = next_state\n",
    "\n",
    "env.close()\n",
    "\n",
    "show_gif(images)\n",
    "sess.close()"
   ]
  },
  {
   "cell_type": "markdown",
   "metadata": {},
   "source": [
    "Action Replay"
   ]
  },
  {
   "cell_type": "code",
   "execution_count": 97,
   "metadata": {},
   "outputs": [],
   "source": [
    "from collections import deque"
   ]
  },
  {
   "cell_type": "code",
   "execution_count": 98,
   "metadata": {},
   "outputs": [],
   "source": [
    "# Settings\n",
    "env = gym.make('CartPole-v1', render_mode=\"rgb_array\")\n",
    "n_input = env.observation_space.shape[0] # 4\n",
    "n_actions = env.action_space.n\n",
    "n_output = n_actions\n",
    "\n",
    "n_hidden1 = 100\n",
    "n_hidden2 = 50\n",
    "\n",
    "x = tf.placeholder(tf.float32, [None, n_input])\n",
    "y = tf.placeholder(tf.float32, [None, n_output])"
   ]
  },
  {
   "cell_type": "code",
   "execution_count": 99,
   "metadata": {},
   "outputs": [],
   "source": [
    "weights = {\n",
    "    'hidden1' : tf.Variable(tf.random_normal([n_input, n_hidden1], stddev=0.01)),\n",
    "    'hidden2' : tf.Variable(tf.random_normal([n_hidden1, n_hidden2], stddev=0.01)),\n",
    "    'output' : tf.Variable(tf.random_normal([n_hidden2, n_output], stddev=0.01))\n",
    "}\n",
    "\n",
    "biases = {\n",
    "    'hidden1' : tf.Variable(tf.random_normal([n_hidden1], stddev=0.01)),\n",
    "    'hidden2' : tf.Variable(tf.random_normal([n_hidden2], stddev=0.01)),\n",
    "    'output' : tf.Variable(tf.random_normal([n_output], stddev=0.01))\n",
    "}"
   ]
  },
  {
   "cell_type": "code",
   "execution_count": 100,
   "metadata": {},
   "outputs": [],
   "source": [
    "def DQN(x, weights, biases):\n",
    "    hidden1 = tf.add(tf.matmul(x, weights['hidden1']), biases['hidden1'])\n",
    "    hidden1 = tf.nn.relu(hidden1)\n",
    "\n",
    "    hidden2 = tf.add(tf.matmul(hidden1, weights['hidden2']), biases['hidden2'])\n",
    "    hidden2 = tf.nn.relu(hidden2)\n",
    "\n",
    "    output = tf.add(tf.matmul(hidden2, weights['output']), biases['output'])\n",
    "    return output"
   ]
  },
  {
   "cell_type": "code",
   "execution_count": 161,
   "metadata": {},
   "outputs": [],
   "source": [
    "Qpred = DQN(x, weights, biases)\n",
    "loss = tf.reduce_mean(tf.square(y - Qpred))\n",
    "\n",
    "LR = 0.0001\n",
    "optm = tf.train.AdamOptimizer(LR).minimize(loss)"
   ]
  },
  {
   "cell_type": "code",
   "execution_count": 162,
   "metadata": {},
   "outputs": [
    {
     "name": "stdout",
     "output_type": "stream",
     "text": [
      "Episode: 0 steps: 11, max count: 11\n",
      "Episode: 200 steps: 9, max count: 15\n",
      "Episode: 400 steps: 55, max count: 119\n",
      "Episode: 600 steps: 35, max count: 210\n",
      "Episode: 800 steps: 161, max count: 249\n",
      "Episode: 1000 steps: 23, max count: 305\n",
      "Episode: 1200 steps: 55, max count: 305\n",
      "Episode: 1400 steps: 68, max count: 342\n",
      "Episode: 1600 steps: 102, max count: 478\n",
      "Episode: 1800 steps: 177, max count: 864\n",
      "Episode: 2000 steps: 87, max count: 1340\n"
     ]
    }
   ],
   "source": [
    "sess = tf.Session()\n",
    "init = tf.global_variables_initializer()\n",
    "sess.run(init)\n",
    "replay_buffer = []\n",
    "n_buffer = 5000\n",
    "n_batch = 10\n",
    "max_count = 0\n",
    "gamma = 0.9\n",
    "\n",
    "for episode in range(2001):\n",
    "    terminated = False\n",
    "    state = env.reset()[0]\n",
    "\n",
    "    count = 0\n",
    "\n",
    "    while not terminated:\n",
    "        \n",
    "        count += 1\n",
    "        Q = sess.run(Qpred, feed_dict={x: np.reshape(state, [1, n_input])})\n",
    "\n",
    "        epsilon = 0.1\n",
    "        if np.random.uniform() < epsilon:\n",
    "            a = env.action_space.sample()\n",
    "        else:\n",
    "            a = np.argmax(Q)\n",
    "        \n",
    "        next_state, reward, terminated, _, _ = env.step(a)\n",
    "\n",
    "        if terminated:\n",
    "            reward = -200\n",
    "            # next_state = np.zeros(state.shape)\n",
    "\n",
    "        replay_buffer.append([state, action, reward, next_state, terminated])\n",
    "        if len(replay_buffer) > n_buffer:\n",
    "            replay_buffer.pop(0)\n",
    "        state = next_state\n",
    "    max_count = max(count, max_count)\n",
    "    if episode % n_batch == 1:\n",
    "        for _ in range(100):\n",
    "            if len(replay_buffer) < n_batch:\n",
    "                continue\n",
    "            mini_batch = random.sample(replay_buffer, n_batch)\n",
    "\n",
    "            x_stack = np.empty(0).reshape(0, n_input)\n",
    "            y_stack = np.empty(0).reshape(0, n_output)\n",
    "            for state, action, reward, next_state, done in mini_batch:\n",
    "                Q = sess.run(Qpred, feed_dict= {x: np.reshape(state, [1, n_input])})\n",
    "                if terminated:\n",
    "                    Q[0][action] = reward\n",
    "                else:\n",
    "                    next_Q = sess.run(Qpred, feed_dict= {x: np.reshape(next_state, [1, n_input])})\n",
    "                    Q[0][action] = reward + gamma * np.max(next_Q)\n",
    "                    \n",
    "                x_stack = np.vstack([x_stack, state])\n",
    "                y_stack = np.vstack([y_stack, Q])\n",
    "            # Learning\n",
    "            sess.run(optm, feed_dict={x: x_stack, y: y_stack}) # Update\n",
    "    \n",
    "    if episode % 200 == 0:\n",
    "        print(f\"Episode: {episode} steps: {count}, max count: {max_count}\")\n",
    "env.close()"
   ]
  },
  {
   "cell_type": "code",
   "execution_count": 163,
   "metadata": {},
   "outputs": [],
   "source": [
    "state = env.reset()[0]\n",
    "images = []\n",
    "\n",
    "terminated = False\n",
    "\n",
    "while not terminated:\n",
    "    screen = env.render()\n",
    "    images += [Image.fromarray(screen)]\n",
    "    state = np.reshape(state, [1, n_input])\n",
    "    Q = sess.run(Qpred, feed_dict={x: state})\n",
    "    action = np.argmax(Q)\n",
    "\n",
    "    next_state, reward, terminated, _, _ = env.step(action)\n",
    "    state = next_state\n",
    "\n",
    "env.close()\n",
    "\n",
    "show_gif(images)"
   ]
  },
  {
   "cell_type": "code",
   "execution_count": 160,
   "metadata": {},
   "outputs": [],
   "source": [
    "sess.close()"
   ]
  },
  {
   "cell_type": "code",
   "execution_count": null,
   "metadata": {},
   "outputs": [],
   "source": []
  }
 ],
 "metadata": {
  "kernelspec": {
   "display_name": "rl",
   "language": "python",
   "name": "python3"
  },
  "language_info": {
   "codemirror_mode": {
    "name": "ipython",
    "version": 3
   },
   "file_extension": ".py",
   "mimetype": "text/x-python",
   "name": "python",
   "nbconvert_exporter": "python",
   "pygments_lexer": "ipython3",
   "version": "3.9.18"
  }
 },
 "nbformat": 4,
 "nbformat_minor": 2
}
