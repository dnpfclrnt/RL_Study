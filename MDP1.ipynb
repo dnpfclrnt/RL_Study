{
 "cells": [
  {
   "cell_type": "code",
   "execution_count": 1,
   "metadata": {},
   "outputs": [],
   "source": [
    "import numpy as np"
   ]
  },
  {
   "cell_type": "code",
   "execution_count": 4,
   "metadata": {},
   "outputs": [
    {
     "name": "stdout",
     "output_type": "stream",
     "text": [
      "-5.41271\n"
     ]
    }
   ],
   "source": [
    "R = [-2, -2, -2, 10, 1, -1, 0]\n",
    "gamma = 0.9\n",
    "\n",
    "S = [0, 1, 2, 4, 2, 4]\n",
    "\n",
    "P = [\n",
    "    [0, 0.5, 0, 0, 0, 0.5, 0], \n",
    "    [0, 0, 0.8, 0, 0, 0, 0.2], \n",
    "    [0, 0, 0, 0.6, 0.4, 0, 0], \n",
    "    [0, 0, 0, 0, 0, 0, 1], \n",
    "    [0.2, 0.4, 0.4, 0, 0, 0, 0], \n",
    "    [0.1, 0, 0, 0, 0, 0.9, 0], \n",
    "    [0, 0, 0, 0, 0, 0, 1]\n",
    "]\n",
    "\n",
    "G = 0\n",
    "for i in range(6):\n",
    "    G = G + (gamma**i) * R[S[i]]\n",
    "print(G)"
   ]
  },
  {
   "cell_type": "code",
   "execution_count": 5,
   "metadata": {},
   "outputs": [
    {
     "name": "stdout",
     "output_type": "stream",
     "text": [
      "[0, 1, 6, 6, 6, 6]\n",
      "-3.8\n"
     ]
    }
   ],
   "source": [
    "# Starting from 0\n",
    "x = 0\n",
    "S = []\n",
    "S.append(x)\n",
    "\n",
    "for i in range(5):\n",
    "    x = np.random.choice(len(P), 1, p=P[x][:])[0]\n",
    "    S.append(x)\n",
    "\n",
    "G = 0\n",
    "for i in range(5):\n",
    "    G = G + (gamma**i) * R[S[i]]\n",
    "\n",
    "print(S)\n",
    "print(G)"
   ]
  },
  {
   "cell_type": "code",
   "execution_count": 8,
   "metadata": {},
   "outputs": [
    {
     "name": "stdout",
     "output_type": "stream",
     "text": [
      "[[-5.01272891]\n",
      " [ 0.9426553 ]\n",
      " [ 4.08702125]\n",
      " [10.        ]\n",
      " [ 1.90839235]\n",
      " [-7.63760843]\n",
      " [ 0.        ]]\n"
     ]
    }
   ],
   "source": [
    "R = [-2, -2, -2, 10, 1, -1, 0]\n",
    "gamma = 0.9\n",
    "\n",
    "S = [0, 1, 2, 4, 2, 4]\n",
    "\n",
    "P = [\n",
    "    [0, 0.5, 0, 0, 0, 0.5, 0], \n",
    "    [0, 0, 0.8, 0, 0, 0, 0.2], \n",
    "    [0, 0, 0, 0.6, 0.4, 0, 0], \n",
    "    [0, 0, 0, 0, 0, 0, 1], \n",
    "    [0.2, 0.4, 0.4, 0, 0, 0, 0], \n",
    "    [0.1, 0, 0, 0, 0, 0.9, 0], \n",
    "    [0, 0, 0, 0, 0, 0, 1]\n",
    "]\n",
    "P = np.asmatrix(P)\n",
    "R = np.asmatrix(R)\n",
    "R = R.T\n",
    "\n",
    "gamma = 0.9\n",
    "\n",
    "v = np.linalg.inv(np.eye(7) -gamma * P) * R\n",
    "print(v)"
   ]
  },
  {
   "cell_type": "code",
   "execution_count": 11,
   "metadata": {},
   "outputs": [
    {
     "name": "stdout",
     "output_type": "stream",
     "text": [
      "[[-5.01272786]\n",
      " [ 0.94265541]\n",
      " [ 4.08702138]\n",
      " [10.        ]\n",
      " [ 1.90839268]\n",
      " [-7.63760653]\n",
      " [ 0.        ]]\n"
     ]
    }
   ],
   "source": [
    "v = np.zeros([7, 1])\n",
    "for i in range(100):\n",
    "    v = R + gamma*P*v\n",
    "print(v)"
   ]
  },
  {
   "cell_type": "code",
   "execution_count": null,
   "metadata": {},
   "outputs": [],
   "source": []
  }
 ],
 "metadata": {
  "kernelspec": {
   "display_name": "rl",
   "language": "python",
   "name": "python3"
  },
  "language_info": {
   "codemirror_mode": {
    "name": "ipython",
    "version": 3
   },
   "file_extension": ".py",
   "mimetype": "text/x-python",
   "name": "python",
   "nbconvert_exporter": "python",
   "pygments_lexer": "ipython3",
   "version": "3.9.18"
  }
 },
 "nbformat": 4,
 "nbformat_minor": 2
}
