{
 "cells": [
  {
   "cell_type": "code",
   "execution_count": 131,
   "metadata": {},
   "outputs": [],
   "source": [
    "import numpy as np"
   ]
  },
  {
   "cell_type": "code",
   "execution_count": 132,
   "metadata": {},
   "outputs": [
    {
     "name": "stdout",
     "output_type": "stream",
     "text": [
      "[[ 0.        ]\n",
      " [ 0.        ]\n",
      " [18.18181818]\n",
      " [10.        ]]\n"
     ]
    }
   ],
   "source": [
    "P = [\n",
    "    [1, 0, 0, 0], \n",
    "    [0, 1, 0, 0], \n",
    "    [0.5, 0, 0.5, 0], \n",
    "    [0, 1, 0, 0]\n",
    "]\n",
    "\n",
    "R = [0, 0, 10, 10]\n",
    "\n",
    "P = np.asmatrix(P)\n",
    "R = np.asmatrix(R).T\n",
    "\n",
    "gamma = 0.9\n",
    "v = (np.eye(4) - gamma*P).I * R\n",
    "print(v)"
   ]
  },
  {
   "cell_type": "code",
   "execution_count": 133,
   "metadata": {},
   "outputs": [
    {
     "name": "stdout",
     "output_type": "stream",
     "text": [
      "[[ 0.        ]\n",
      " [ 0.        ]\n",
      " [18.18181818]\n",
      " [10.        ]]\n"
     ]
    }
   ],
   "source": [
    "v = np.zeros([4, 1])\n",
    "for _ in range(30):\n",
    "    v = R + gamma * P*v\n",
    "print(v)"
   ]
  },
  {
   "cell_type": "code",
   "execution_count": 134,
   "metadata": {},
   "outputs": [
    {
     "name": "stdout",
     "output_type": "stream",
     "text": [
      "[(0.5, 0), (0.5, 2)]\n"
     ]
    }
   ],
   "source": [
    "states = [0, 1, 2, 3]\n",
    "actions = [0, 1]\n",
    "P = [\n",
    "    [\n",
    "        [(1, 0)],               # Action 0\n",
    "        [(0.5, 0), (0.5, 1)]    # Action 1\n",
    "    ], \n",
    "    [\n",
    "        [(0.5, 0), (0.5, 3)], \n",
    "        [(1, 1)]\n",
    "    ],\n",
    "    [\n",
    "        [(0.5, 0), (0.5, 2)], \n",
    "        [(0.5, 0), (0.5, 1)]\n",
    "    ],\n",
    "    [\n",
    "        [(0.5, 2), (0.5, 3)],\n",
    "        [(1, 1)]\n",
    "    ]\n",
    "]\n",
    "R = [0, 0, 10, 10]\n",
    "gamma = 0.9\n",
    "\n",
    "print(P[2][0])"
   ]
  },
  {
   "cell_type": "code",
   "execution_count": 135,
   "metadata": {},
   "outputs": [
    {
     "name": "stdout",
     "output_type": "stream",
     "text": [
      "5.0\n"
     ]
    }
   ],
   "source": [
    "v = [0, 0, 10, 10]\n",
    "tmp = 0\n",
    "\n",
    "for trans in P[2][0]:\n",
    "    prob = trans[0]\n",
    "    next_state = trans[1]\n",
    "    tmp += prob * v[next_state]\n",
    "\n",
    "print(tmp)"
   ]
  },
  {
   "cell_type": "code",
   "execution_count": 136,
   "metadata": {},
   "outputs": [
    {
     "name": "stdout",
     "output_type": "stream",
     "text": [
      "[31.58508953413495, 38.60400287377479, 44.02416232966445, 54.20158563176306]\n"
     ]
    }
   ],
   "source": [
    "v = [0, 0, 0, 0]\n",
    "\n",
    "def get_expected_value(state: int, action: int):\n",
    "    val = 0\n",
    "    for trans in P[state][action]:\n",
    "        prob = trans[0]\n",
    "        next_state = trans[1]\n",
    "        val += prob * v[next_state]\n",
    "    return val\n",
    "\n",
    "for _ in range(100):\n",
    "    for state in states:\n",
    "        # Value for action 0\n",
    "        q0 = get_expected_value(state=state, action=0)\n",
    "        # Value for action 1\n",
    "        q1 = get_expected_value(state=state, action=1)\n",
    "        v[state] = R[state] + gamma * max(q0, q1)\n",
    "print(v)"
   ]
  },
  {
   "cell_type": "code",
   "execution_count": 137,
   "metadata": {},
   "outputs": [],
   "source": [
    "\"\"\"\n",
    "단순히 설명하자면, 그 전에 value function을 계산했으니 그 value function을 따라가도록 만드는 것\n",
    "\"\"\"\n",
    "optPolicy = [0, 0, 0, 0]\n",
    "\n",
    "for state in states:\n",
    "    q0 = get_expected_value(state=state, action=0)\n",
    "    q1 = get_expected_value(state=state, action=1)\n",
    "    optPolicy[state] = np.argmax([q0, q1])"
   ]
  },
  {
   "cell_type": "code",
   "execution_count": 138,
   "metadata": {},
   "outputs": [
    {
     "data": {
      "text/plain": [
       "array([1, 1, 0, 0])"
      ]
     },
     "execution_count": 138,
     "metadata": {},
     "output_type": "execute_result"
    }
   ],
   "source": [
    "policy = np.random.randint(0, 2, 4)\n",
    "policy"
   ]
  },
  {
   "cell_type": "code",
   "execution_count": 139,
   "metadata": {},
   "outputs": [
    {
     "name": "stdout",
     "output_type": "stream",
     "text": [
      "[1 1 0 0]\n"
     ]
    }
   ],
   "source": [
    "def get_expected_policy_value(value: list, state: int, policy: list):\n",
    "    val = 0\n",
    "    for trans in P[state][policy[state]]:\n",
    "        prob = trans[0]\n",
    "        next_state = trans[1]\n",
    "        val += prob * value[next_state]\n",
    "    return val\n",
    "\n",
    "def cal_value(policy):\n",
    "    v = [0, 0, 0, 0]\n",
    "    for _ in range(100):\n",
    "        for state in states:\n",
    "            next_val = get_expected_policy_value(value=v, state=state, policy=policy)\n",
    "            v[state] = R[state] + gamma * next_val\n",
    "    return v"
   ]
  },
  {
   "cell_type": "code",
   "execution_count": 140,
   "metadata": {},
   "outputs": [
    {
     "name": "stdout",
     "output_type": "stream",
     "text": [
      "[0.0, 0.0, 18.18181818181818, 33.05785123966942]\n"
     ]
    }
   ],
   "source": [
    "v = cal_value(policy=policy)\n",
    "print(v)"
   ]
  },
  {
   "cell_type": "code",
   "execution_count": 141,
   "metadata": {},
   "outputs": [
    {
     "name": "stdout",
     "output_type": "stream",
     "text": [
      "[31.58508953413495, 38.60400287377479, 44.02416232966445, 54.20158563176306]\n",
      "[1 0 0 0]\n"
     ]
    }
   ],
   "source": [
    "for _ in range(100):\n",
    "    for state in states:\n",
    "        q1 = get_expected_value(state=state, action=0)\n",
    "        q2 = get_expected_value(state=state, action=1)\n",
    "        policy[state] = np.argmax([q1, q2])\n",
    "    v = cal_value(policy=policy)\n",
    "print(v)\n",
    "print(policy)"
   ]
  },
  {
   "cell_type": "code",
   "execution_count": 142,
   "metadata": {},
   "outputs": [],
   "source": [
    "# Grid world example\n",
    "P = {\n",
    "     0: {0: [(0.9,0), (0.1,1), (0,4)], \n",
    "         1: [(0.8,1), (0.1,4), (0.1,0)], \n",
    "         2: [(0.8,4), (0.1,1), (0.1,0)], \n",
    "         3: [(0.9,0), (0.1,4)]},\n",
    "     1: {0: [(0.8,1), (0.1,2), (0.1,0)], \n",
    "         1: [(0.8,2), (0.2,1)], \n",
    "         2: [(0.8,1), (0.1,0), (0.1,2)], \n",
    "         3: [(0.8,0), (0.2,1)]},\n",
    "     2: {0: [(0.8,2), (0.1,3), (0.1,1)], \n",
    "         1: [(0.8,3), (0.1,5), (0.1,2)], \n",
    "         2: [(0.8,5), (0.1,1), (0.1,3)], \n",
    "         3: [(0.8,1), (0.1,2), (0.1,5)]},\n",
    "     3: {0: [(0.9,3), (0.1,2)], \n",
    "         1: [(0.9,3), (0.1,6)], \n",
    "         2: [(0.8,6), (0.1,2), (0.1,3)], \n",
    "         3: [(0.8,2), (0.1,3), (0.1,6)]},\n",
    "     4: {0: [(0.8,0), (0.2,4)], \n",
    "         1: [(0.8,4), (0.1,7), (0.1,0)], \n",
    "         2: [(0.8,7), (0.2,4)], \n",
    "         3: [(0.8,4), (0.1,0), (0.1,7)]},\n",
    "     5: {0: [(0.8,2), (0.1,6), (0.1,5)], \n",
    "         1: [(0.8,6), (0.1,9), (0.1,2)], \n",
    "         2: [(0.8,9), (0.1,5), (0.1,6)], \n",
    "         3: [(0.8,5), (0.1,2), (0.1,9)]},\n",
    "     6: {0: [(0.8,3), (0.1,6), (0.1,5)], \n",
    "         1: [(0.8,6), (0.1,10), (0.1,3)], \n",
    "         2: [(0.8,10), (0.1,5), (0.1,6)], \n",
    "         3: [(0.8,5), (0.1,3), (0.1,10)]},\n",
    "     7: {0: [(0.8,4), (0.1,8), (0.1,7)], \n",
    "         1: [(0.8,8), (0.1,7), (0.1,4)], \n",
    "         2: [(0.9,7), (0.1,8)], \n",
    "         3: [(0.9,7), (0.1,4)]},\n",
    "     8: {0: [(0.8,8), (0.1,9), (0.1,7)], \n",
    "         1: [(0.8,9), (0.2,8)], \n",
    "         2: [(0.8,8), (0.1,7), (0.1,9)], \n",
    "         3: [(0.8,7), (0.2,8)]},\n",
    "     9: {0: [(0.8,5), (0.1,10), (0.1,8)], \n",
    "         1: [(0.8,9), (0.1,9), (0.1,5)], \n",
    "         2: [(0.8,9), (0.1,8), (0.1,10)], \n",
    "         3: [(0.8,8), (0.1,5), (0.1,9)]},\n",
    "     10: {0: [(0.8,6), (0.1,10), (0.1,9)], \n",
    "          1: [(0.9,10), (0.1,6)], \n",
    "          2: [(0.9,10), (0.1,9)], \n",
    "          3: [(0.8,9), (0.1,6), (0.1,10)]}\n",
    "}\n",
    "\n",
    "R = [0, 0, 0, 1, 0, 0, -100, 0, 0, 0, 0]\n",
    "gamma = 0.9\n",
    "\n",
    "States = [0, 1, 2, 3, 4, 5, 6, 7, 8, 9, 10]\n",
    "Actions = [0, 1, 2, 3] # [north, east, south, west]"
   ]
  },
  {
   "cell_type": "code",
   "execution_count": 158,
   "metadata": {},
   "outputs": [
    {
     "name": "stdout",
     "output_type": "stream",
     "text": [
      "[1, 1, 1, 0, 0, 3, 3, 0, 3, 3, 2]\n",
      "[5.469912875154494, 6.313016756392044, 7.189835340201858, 8.668832741881708, 4.802848609089826, 3.346646423327193, -96.67286274565409, 4.161433424452139, 3.6539401588267464, 3.222016015185935, 1.5261933863955008]\n",
      "[1, 1, 1, 0, 0, 3, 3, 0, 3, 3, 2]\n"
     ]
    }
   ],
   "source": [
    "v = [0] * 11\n",
    "def get_expected_value(state: int, action: int):\n",
    "    val = 0\n",
    "    for trans in P[state][action]:\n",
    "        prob = trans[0]\n",
    "        next_state = trans[1]\n",
    "        val += prob * v[next_state]\n",
    "    return val\n",
    "\n",
    "for _ in range(100):\n",
    "    for state in States:\n",
    "        val_list = [get_expected_value(state=state, action=action) for action in Actions]\n",
    "        v[state] = R[state] + gamma * max(val_list)\n",
    "\n",
    "####### Lecture\n",
    "# optimal policy\n",
    "optPolicy = [0]*11\n",
    "\n",
    "for s in States:       \n",
    "    optPolicy[s] = np.argmax([sum([trans[0]*v[trans[1]] for trans in P[s][a]]) for a in Actions])\n",
    "\n",
    "print(optPolicy)    \n",
    "##########\n",
    "\n",
    "policy = [0] * 11\n",
    "# policy = np.random.randint(0, 4, 11)\n",
    "\n",
    "def get_expected_policy_val(value: list, state: int, policy: list):\n",
    "    val = 0\n",
    "    for trans in P[state][policy[state]]:\n",
    "        prob = trans[0]\n",
    "        next_state = trans[1]\n",
    "        val += prob * value[next_state]\n",
    "    return val\n",
    "\n",
    "def cal_value(policy: list):\n",
    "    v = [0] * 11\n",
    "    for _ in range(100):\n",
    "        for state in States:\n",
    "            next_val = get_expected_policy_val(v, state, policy)\n",
    "            v[state] = R[state] + gamma * next_val\n",
    "    return v\n",
    "    \n",
    "v = [0] * 11\n",
    "for _ in range(100):\n",
    "    for state in States:\n",
    "        val_list = [get_expected_value(state, action) for action in Actions]\n",
    "        policy[state] = np.argmax(val_list)\n",
    "    v = cal_value(policy)\n",
    "\n",
    "print(v)\n",
    "print(policy)\n"
   ]
  },
  {
   "cell_type": "code",
   "execution_count": null,
   "metadata": {},
   "outputs": [],
   "source": []
  }
 ],
 "metadata": {
  "kernelspec": {
   "display_name": "rl",
   "language": "python",
   "name": "python3"
  },
  "language_info": {
   "codemirror_mode": {
    "name": "ipython",
    "version": 3
   },
   "file_extension": ".py",
   "mimetype": "text/x-python",
   "name": "python",
   "nbconvert_exporter": "python",
   "pygments_lexer": "ipython3",
   "version": "3.9.18"
  }
 },
 "nbformat": 4,
 "nbformat_minor": 2
}
