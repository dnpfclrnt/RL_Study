{
 "cells": [
  {
   "cell_type": "code",
   "execution_count": 2,
   "metadata": {},
   "outputs": [],
   "source": [
    "def stair(memo, n):\n",
    "    if memo[n-1] != 0:\n",
    "        m = memo[n-1]\n",
    "    elif n == 1:\n",
    "        m = 1\n",
    "    elif n == 2:\n",
    "        m = 2\n",
    "    elif n == 3:\n",
    "        m = 4\n",
    "    else:\n",
    "        m = stair(memo, n - 1) + stair(memo, n-2) + stair(memo, n-3)\n",
    "    memo[n-1] = m\n",
    "    return m"
   ]
  },
  {
   "cell_type": "code",
   "execution_count": 4,
   "metadata": {},
   "outputs": [
    {
     "name": "stdout",
     "output_type": "stream",
     "text": [
      "[  1.   2.   4.   7.  13.  24.  44.  81. 149. 274.]\n"
     ]
    }
   ],
   "source": [
    "import numpy as np\n",
    "n = 10\n",
    "memo = np.zeros(n)\n",
    "stair(memo, n)\n",
    "print(memo)"
   ]
  },
  {
   "cell_type": "code",
   "execution_count": null,
   "metadata": {},
   "outputs": [],
   "source": []
  }
 ],
 "metadata": {
  "kernelspec": {
   "display_name": "rl",
   "language": "python",
   "name": "python3"
  },
  "language_info": {
   "codemirror_mode": {
    "name": "ipython",
    "version": 3
   },
   "file_extension": ".py",
   "mimetype": "text/x-python",
   "name": "python",
   "nbconvert_exporter": "python",
   "pygments_lexer": "ipython3",
   "version": "3.9.18"
  }
 },
 "nbformat": 4,
 "nbformat_minor": 2
}
