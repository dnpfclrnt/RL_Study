{
 "cells": [
  {
   "cell_type": "code",
   "execution_count": 6,
   "metadata": {},
   "outputs": [
    {
     "name": "stdout",
     "output_type": "stream",
     "text": [
      "tensor([[ 0.,  1.,  2.,  3.,  4.,  5.,  6.,  7.,  8.,  9.],\n",
      "        [10., 11., 12., 13., 14., 15., 16., 17., 18., 19.],\n",
      "        [20., 21., 22., 23., 24., 25., 26., 27., 28., 29.],\n",
      "        [30., 31., 32., 33., 34., 35., 36., 37., 38., 39.],\n",
      "        [40., 41., 42., 43., 44., 45., 46., 47., 48., 49.],\n",
      "        [50., 51., 52., 53., 54., 55., 56., 57., 58., 59.],\n",
      "        [60., 61., 62., 63., 64., 65., 66., 67., 68., 69.],\n",
      "        [70., 71., 72., 73., 74., 75., 76., 77., 78., 79.],\n",
      "        [80., 81., 82., 83., 84., 85., 86., 87., 88., 89.],\n",
      "        [90., 91., 92., 93., 94., 95., 96., 97., 98., 99.]])\n",
      "tensor([[0],\n",
      "        [1],\n",
      "        [2],\n",
      "        [3],\n",
      "        [4],\n",
      "        [5],\n",
      "        [6],\n",
      "        [7],\n",
      "        [8],\n",
      "        [9]])\n",
      "tensor([[ 0.],\n",
      "        [11.],\n",
      "        [22.],\n",
      "        [33.],\n",
      "        [44.],\n",
      "        [55.],\n",
      "        [66.],\n",
      "        [77.],\n",
      "        [88.],\n",
      "        [99.]])\n",
      "tensor([[ 0.],\n",
      "        [11.],\n",
      "        [22.],\n",
      "        [33.],\n",
      "        [44.],\n",
      "        [55.],\n",
      "        [66.],\n",
      "        [77.],\n",
      "        [88.],\n",
      "        [99.]])\n"
     ]
    },
    {
     "name": "stderr",
     "output_type": "stream",
     "text": [
      "/var/folders/bt/hwdqydb51b37_hdz_msrpkg40000gn/T/ipykernel_85674/1928610599.py:3: UserWarning: torch.range is deprecated and will be removed in a future release because its behavior is inconsistent with Python's range builtin. Instead, use torch.arange, which produces values in [start, end).\n",
      "  matrix = torch.range(0,99).reshape(10,10)\n"
     ]
    }
   ],
   "source": [
    "import torch\n",
    "\n",
    "matrix = torch.range(0,99).reshape(10,10)\n",
    "indices = [0,1,2,3,4,5,6,7,8,9]\n",
    "indices = torch.tensor(indices).unsqueeze(axis=-1)\n",
    "print(matrix)\n",
    "print(indices)\n",
    "print(torch.gather(matrix, 1, indices ))\n",
    "print(matrix.gather(1, indices))"
   ]
  },
  {
   "cell_type": "code",
   "execution_count": null,
   "metadata": {},
   "outputs": [],
   "source": []
  }
 ],
 "metadata": {
  "kernelspec": {
   "display_name": "rl",
   "language": "python",
   "name": "python3"
  },
  "language_info": {
   "codemirror_mode": {
    "name": "ipython",
    "version": 3
   },
   "file_extension": ".py",
   "mimetype": "text/x-python",
   "name": "python",
   "nbconvert_exporter": "python",
   "pygments_lexer": "ipython3",
   "version": "3.9.18"
  }
 },
 "nbformat": 4,
 "nbformat_minor": 2
}
