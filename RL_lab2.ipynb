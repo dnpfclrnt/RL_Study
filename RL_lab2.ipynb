{
 "cells": [
  {
   "cell_type": "code",
   "execution_count": 1,
   "metadata": {},
   "outputs": [],
   "source": [
    "import numpy as np\n",
    "import matplotlib.pyplot as plt\n",
    "\n",
    "%matplotlib inline"
   ]
  },
  {
   "cell_type": "code",
   "execution_count": 2,
   "metadata": {},
   "outputs": [],
   "source": [
    "import gym\n",
    "from IPython import display as ipythondisplay\n",
    "from PIL import Image\n",
    "\n",
    "env = gym.make('CartPole-v1', render_mode=\"rgb_array\")"
   ]
  },
  {
   "cell_type": "code",
   "execution_count": 3,
   "metadata": {},
   "outputs": [
    {
     "name": "stdout",
     "output_type": "stream",
     "text": [
      "[-0.04176844 -0.03451551  0.01290812  0.02217063]\n"
     ]
    }
   ],
   "source": [
    "observation = env.reset()\n",
    "print(observation[0])"
   ]
  },
  {
   "cell_type": "code",
   "execution_count": 4,
   "metadata": {},
   "outputs": [
    {
     "name": "stdout",
     "output_type": "stream",
     "text": [
      "[ 0.04518548  0.23516513 -0.02960301 -0.30295032] 1.0 False {}\n",
      "[ 0.04988878  0.4306962  -0.03566202 -0.60482043] 1.0 False {}\n",
      "[ 0.0585027   0.62629825 -0.04775843 -0.9085194 ] 1.0 False {}\n",
      "[ 0.07102867  0.43185416 -0.06592882 -0.6312214 ] 1.0 False {}\n",
      "[ 0.07966575  0.23771104 -0.07855324 -0.36000845] 1.0 False {}\n",
      "[ 0.08441997  0.43385664 -0.08575341 -0.67639047] 1.0 False {}\n",
      "[ 0.09309711  0.6300588  -0.09928122 -0.99479294] 1.0 False {}\n",
      "[ 0.10569828  0.43639493 -0.11917708 -0.7348683 ] 1.0 False {}\n",
      "[ 0.11442618  0.2431033  -0.13387445 -0.48194262] 1.0 False {}\n",
      "[ 0.11928824  0.43983564 -0.14351329 -0.8136423 ] 1.0 False {}\n",
      "[ 0.12808496  0.63660073 -0.15978615 -1.147804  ] 1.0 False {}\n",
      "[ 0.14081697  0.83340645 -0.18274222 -1.4860294 ] 1.0 False {}\n",
      "[ 0.1574851   1.0302241  -0.21246281 -1.8297678 ] 1.0 True {}\n",
      "[ 0.17808959  1.2269733  -0.24905817 -2.1802506 ] 0.0 True {}\n",
      "[ 0.20262904  1.0349877  -0.2926632  -1.9736264 ] 0.0 True {}\n",
      "[ 0.2233288   0.84389484 -0.3321357  -1.7839953 ] 0.0 True {}\n",
      "[ 0.2402067   0.65366095 -0.3678156  -1.6101018 ] 0.0 True {}\n",
      "[ 0.25327992  0.8508202  -0.40001765 -1.9917761 ] 0.0 True {}\n",
      "[ 0.27029634  1.0473976  -0.43985316 -2.3778574 ] 0.0 True {}\n",
      "[ 0.29124427  1.2430998  -0.48741034 -2.7686558 ] 0.0 True {}\n",
      "[ 0.31610626  1.4375331  -0.54278344 -3.1640346 ] 0.0 True {}\n",
      "[ 0.34485695  1.6301923  -0.60606414 -3.5633457 ] 0.0 True {}\n",
      "[ 0.37746078  1.4392616  -0.67733103 -3.495431  ] 0.0 True {}\n",
      "[ 0.406246    1.6284789  -0.74723965 -3.9008563 ] 0.0 True {}\n",
      "[ 0.4388156   1.8143787  -0.82525676 -4.3052187 ] 0.0 True {}\n",
      "[ 0.47510317  1.9961818  -0.91136116 -4.706221  ] 0.0 True {}\n",
      "[ 0.5150268  2.173085  -1.0054855 -5.1011553] 0.0 True {}\n",
      "[ 0.5584885  1.9734296 -1.1075087 -5.188989 ] 0.0 True {}\n",
      "[ 0.5979571  1.7723179 -1.2112885 -5.3171854] 0.0 True {}\n",
      "[ 0.6334035  1.5691268 -1.3176322 -5.485162 ] 0.0 True {}\n",
      "[ 0.664786   1.7283868 -1.4273354 -5.829625 ] 0.0 True {}\n",
      "[ 0.6993537  1.5175881 -1.5439279 -6.075398 ] 0.0 True {}\n",
      "[ 0.7297055  1.6662296 -1.6654359 -6.375282 ] 0.0 True {}\n",
      "[ 0.76303005  1.8100942  -1.7929415  -6.647574  ] 0.0 True {}\n",
      "[ 0.79923195  1.585475   -1.925893   -7.0085826 ] 0.0 True {}\n",
      "[ 0.83094144  1.3555363  -2.0660646  -7.4041586 ] 0.0 True {}\n",
      "[ 0.8580522  1.1206634 -2.2141478 -7.830273 ] 0.0 True {}\n",
      "[ 0.88046545  0.8819786  -2.3707533  -8.280273  ] 0.0 True {}\n",
      "[ 0.898105    0.64162123 -2.5363588  -8.743735  ] 0.0 True {}\n",
      "[ 0.9109374   0.78421813 -2.7112334  -8.735107  ] 0.0 True {}\n",
      "[ 0.9266218  0.5555146 -2.8859355 -9.169538 ] 0.0 True {}\n",
      "[ 0.9377321   0.33716178 -3.0693264  -9.560768  ] 0.0 True {}\n",
      "[ 0.94447535  0.52474034 -3.2605417  -9.301363  ] 0.0 True {}\n",
      "[ 0.9549702   0.34151334 -3.446569   -9.539372  ] 0.0 True {}\n",
      "[ 0.9618004   0.17823422 -3.6373565  -9.68471   ] 0.0 True {}\n",
      "[ 0.9653651   0.03501435 -3.8310506  -9.733818  ] 0.0 True {}\n",
      "[ 0.9660654  -0.09055021 -4.025727   -9.692126  ] 0.0 True {}\n",
      "[ 0.9642544  -0.20285013 -4.2195697  -9.571547  ] 0.0 True {}\n",
      "[ 0.9601974   0.06195457 -4.4110003  -9.124609  ] 0.0 True {}\n",
      "[ 0.96143645  0.32139748 -4.5934925  -8.728338  ] 0.0 True {}\n"
     ]
    },
    {
     "name": "stderr",
     "output_type": "stream",
     "text": [
      "/opt/anaconda3/envs/rl/lib/python3.9/site-packages/gym/utils/passive_env_checker.py:233: DeprecationWarning: `np.bool8` is a deprecated alias for `np.bool_`.  (Deprecated NumPy 1.24)\n",
      "  if not isinstance(terminated, (bool, np.bool8)):\n",
      "/opt/anaconda3/envs/rl/lib/python3.9/site-packages/gym/envs/classic_control/cartpole.py:177: UserWarning: \u001b[33mWARN: You are calling 'step()' even though this environment has already returned terminated = True. You should always call 'reset()' once you receive 'terminated = True' -- any further steps are undefined behavior.\u001b[0m\n",
      "  logger.warn(\n"
     ]
    }
   ],
   "source": [
    "env.reset()\n",
    "images = []\n",
    "\n",
    "for _ in range(50):\n",
    "    screen = env.render()\n",
    "    images += [Image.fromarray(screen)]\n",
    "    action = env.action_space.sample()\n",
    "    observation, reward, terminated, _, info = env.step(action)\n",
    "\n",
    "    print(observation, reward, terminated, info)"
   ]
  },
  {
   "cell_type": "code",
   "execution_count": 5,
   "metadata": {},
   "outputs": [],
   "source": [
    "def show_gif(images: list) -> None:\n",
    "    image_file = 'test.gif'\n",
    "    images[0].save(image_file, save_all=True, append_images=images[1:], loop=0, duration=1)"
   ]
  },
  {
   "cell_type": "code",
   "execution_count": 6,
   "metadata": {},
   "outputs": [],
   "source": [
    "env.reset()\n",
    "images = []\n",
    "\n",
    "for _ in range(50):\n",
    "    screen = env.render()\n",
    "    images += [Image.fromarray(screen)]\n",
    "    action = env.action_space.sample()\n",
    "    observation, reward, terminated, _, info = env.step(action)\n",
    "    if terminated:\n",
    "        break\n",
    "\n",
    "show_gif(images)"
   ]
  },
  {
   "cell_type": "code",
   "execution_count": 21,
   "metadata": {},
   "outputs": [
    {
     "name": "stdout",
     "output_type": "stream",
     "text": [
      "[-4.8000002e+00 -3.4028235e+38 -4.1887903e-01 -3.4028235e+38]\n",
      "[4.8000002e+00 3.4028235e+38 4.1887903e-01 3.4028235e+38]\n",
      "2\n",
      "0\n"
     ]
    }
   ],
   "source": [
    "print(env.observation_space.low)\n",
    "print(env.observation_space.high)\n",
    "print(env.action_space.n)\n",
    "print(env.action_space.sample())"
   ]
  },
  {
   "cell_type": "code",
   "execution_count": 8,
   "metadata": {},
   "outputs": [],
   "source": [
    "n_bins_pos = 10\n",
    "n_bins_vel = 10\n",
    "n_bins_ang = 10\n",
    "n_bins_anv = 10\n",
    "n_states = n_bins_pos * n_bins_vel * n_bins_ang * n_bins_anv\n",
    "n_actions = env.action_space.n\n",
    "\n",
    "Q_table = np.random.uniform(0, 1, (n_states, n_actions))"
   ]
  },
  {
   "cell_type": "code",
   "execution_count": 9,
   "metadata": {},
   "outputs": [
    {
     "data": {
      "text/plain": [
       "(10000, 2)"
      ]
     },
     "execution_count": 9,
     "metadata": {},
     "output_type": "execute_result"
    }
   ],
   "source": [
    "Q_table.shape"
   ]
  },
  {
   "cell_type": "code",
   "execution_count": 10,
   "metadata": {},
   "outputs": [
    {
     "name": "stdout",
     "output_type": "stream",
     "text": [
      "[ 0.04778298 -0.219906   -0.00724872  0.24261995]\n"
     ]
    }
   ],
   "source": [
    "env.reset()\n",
    "images = []\n",
    "observation, _, _, _, _ = env.step(0)\n",
    "env.close()\n",
    "\n",
    "pos, vel, ang, anv = observation\n",
    "print(observation)"
   ]
  },
  {
   "cell_type": "code",
   "execution_count": 24,
   "metadata": {},
   "outputs": [],
   "source": [
    "def map_discrete_state(state):\n",
    "    pos, vel, ang, anv = state\n",
    "    idx_pos = np.where(np.histogram(np.clip(pos, -4, 4), bins=n_bins_pos, range=(-4, 4))[0] == 1)[0][0]\n",
    "    idx_vel = np.where(np.histogram(np.clip(vel, -2, 2), bins=n_bins_vel, range=(-2, 2))[0] == 1)[0][0]\n",
    "    idx_ang = np.where(np.histogram(np.clip(ang, -0.4, 0.4), bins=n_bins_ang, range=(-0.4, 0.4))[0] == 1)[0][0]\n",
    "    idx_anv = np.where(np.histogram(np.clip(anv, -2, 2), bins=n_bins_anv, range=(-2, 2))[0] == 1)[0][0]\n",
    "\n",
    "    states = np.zeros([n_bins_pos, n_bins_vel, n_bins_ang, n_bins_anv])\n",
    "    states[idx_pos, idx_vel, idx_ang, idx_anv] = 1\n",
    "    states = states.reshape(-1, 1)\n",
    "\n",
    "    s = np.where(states == 1)[0][0]\n",
    "    return s"
   ]
  },
  {
   "cell_type": "code",
   "execution_count": 31,
   "metadata": {},
   "outputs": [
    {
     "name": "stdout",
     "output_type": "stream",
     "text": [
      "0 14\n",
      "100 99\n",
      "200 149\n",
      "300 160\n",
      "400 739\n",
      "500 203\n",
      "600 311\n",
      "700 152\n",
      "800 606\n",
      "900 128\n",
      "1000 523\n",
      "1100 106\n",
      "1200 253\n",
      "1300 263\n",
      "1400 1022\n",
      "1500 252\n",
      "1600 149\n",
      "1700 69\n",
      "1800 294\n",
      "1900 185\n",
      "2000 207\n"
     ]
    }
   ],
   "source": [
    "alpha = 0.3\n",
    "gamma = 0.9\n",
    "\n",
    "Q_table = np.random.uniform(0, 1, (n_states, n_actions))\n",
    "\n",
    "for episode in range(2001):\n",
    "    state = env.reset()\n",
    "    state = state[0]\n",
    "\n",
    "    count = 0\n",
    "\n",
    "    terminated = False\n",
    "\n",
    "    while not terminated:\n",
    "        s = map_discrete_state(state)\n",
    "        count += 1\n",
    "        epsilon = 0.1\n",
    "        if np.random.uniform() < epsilon:\n",
    "            a = env.action_space.sample()\n",
    "        else:\n",
    "            a = np.argmax(Q_table[s, :])\n",
    "        \n",
    "        next_state, reward, terminated, _, _ = env.step(a)\n",
    "\n",
    "        if terminated:\n",
    "            reward = -100\n",
    "            Q_table[s, a] = reward\n",
    "        else:\n",
    "            next_s = map_discrete_state(next_state)\n",
    "            Q_table[s, a] = alpha * Q_table[s, a] + alpha * (reward + np.max(Q_table[next_s, :]))\n",
    "        state = next_state\n",
    "    if episode % 100 == 0:\n",
    "        print(episode, count)\n",
    "\n",
    "env.close()\n",
    "\n"
   ]
  },
  {
   "cell_type": "code",
   "execution_count": 32,
   "metadata": {},
   "outputs": [],
   "source": [
    "state = env.reset()\n",
    "state = tuple(state[0])\n",
    "images = []\n",
    "\n",
    "terminated = False\n",
    "while not terminated:\n",
    "    screen = env.render()\n",
    "    images += [Image.fromarray(screen)]\n",
    "    s = map_discrete_state(state)\n",
    "    a = np.argmax(Q_table[s, :])\n",
    "    next_state, _, terminated, _, _ = env.step(a)\n",
    "\n",
    "    state = next_state\n",
    "\n",
    "env.close()\n",
    "show_gif(images=images)\n",
    "    "
   ]
  },
  {
   "cell_type": "code",
   "execution_count": null,
   "metadata": {},
   "outputs": [],
   "source": []
  }
 ],
 "metadata": {
  "kernelspec": {
   "display_name": "rl",
   "language": "python",
   "name": "python3"
  },
  "language_info": {
   "codemirror_mode": {
    "name": "ipython",
    "version": 3
   },
   "file_extension": ".py",
   "mimetype": "text/x-python",
   "name": "python",
   "nbconvert_exporter": "python",
   "pygments_lexer": "ipython3",
   "version": "3.9.18"
  }
 },
 "nbformat": 4,
 "nbformat_minor": 2
}
